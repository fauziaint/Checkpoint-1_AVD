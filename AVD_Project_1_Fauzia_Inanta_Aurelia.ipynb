{
  "nbformat": 4,
  "nbformat_minor": 0,
  "metadata": {
    "colab": {
      "provenance": []
    },
    "kernelspec": {
      "name": "python3",
      "display_name": "Python 3"
    },
    "language_info": {
      "name": "python"
    }
  },
  "cells": [
    {
      "cell_type": "markdown",
      "source": [
        "# **BUSSINES UNDERSTANDING**"
      ],
      "metadata": {
        "id": "Hlfi0xLJMDk3"
      }
    },
    {
      "cell_type": "markdown",
      "source": [
        "# **Bussines Objective**\n"
      ],
      "metadata": {
        "id": "Zp3d-XsqMt_L"
      }
    },
    {
      "cell_type": "markdown",
      "source": [
        "Tujuan utama proyek ini adalah menjelaskan nilai gizi dari produk makanan cepat saji dalam membantu konsumen memilih restoran makanan cepat saji untuk meningkatkan pemahaman konsumen tentang dampak gizi dari konsumsi makanan cepat saji dan berupaya menciptakan pilihan makanan yang lebih sehat dalam industri makanan cepat saji."
      ],
      "metadata": {
        "id": "YlUqoILoVTjM"
      }
    },
    {
      "cell_type": "markdown",
      "source": [
        "# **Asses situation**"
      ],
      "metadata": {
        "id": "-bhEdaC0P3tG"
      }
    },
    {
      "cell_type": "markdown",
      "source": [
        "Situasi bisnis yang mendasari analisis ini adalah meningkatnya kesadaran masyarakat akan pentingnya pola makan sehat, di tengah maraknya konsumsi makanan cepat saji. Banyak konsumen yang ingin mengetahui kandungan nutrisi dari makanan yang mereka makan, namun informasi ini seringkali sulit diakses atau dipahami."
      ],
      "metadata": {
        "id": "T64WCU_-VZ8q"
      }
    },
    {
      "cell_type": "markdown",
      "source": [
        "# **Data Mining Goals**"
      ],
      "metadata": {
        "id": "mHofgj0WQ38P"
      }
    },
    {
      "cell_type": "markdown",
      "source": [
        "Dapat membandingkan kandungan nutrisi antar menu makanan dan antar restoran dan mengidentifikasi menu makanan yang memiliki kandungan nutrisi yang tinggi atau rendah. Dengan berdasarkan analisis ini konsumen dapat dengan mudah membandingkan kandungan nutrisi antar menu makanan dan antar restoran, sehingga mereka dapat membuat pilihan yang lebih tepat sesuai dengan kebutuhan dan preferensi mereka."
      ],
      "metadata": {
        "id": "gOZwF7WRVfQm"
      }
    },
    {
      "cell_type": "markdown",
      "source": [
        " # **Project Plan**\n"
      ],
      "metadata": {
        "id": "SnqciA5kSHaH"
      }
    },
    {
      "cell_type": "markdown",
      "source": [
        "Rencana proyek ini dimulai dengan pengumpulan data dari dataset \"Fastfood Nutrition\" yang tersedia. Analisis data akan dilakukan untuk mencapai tujuan data mining yang telah ditetapkan, yaitu mengidentifikasi tren nutrisi, membandingkan kandungan nutrisi antar menu dan restoran, serta mengidentifikasi menu dengan kandungan nutrisi tinggi atau rendah. Pada prosesnya mencakup pengumpulan, pembersihan data, visualisasi data yang informatif, interpretasi hasil analisis yang dilakukan untuk menarik kesimpulan yang relevan dan memberikan wawasan bagi konsumen. Hasil akhir berupa laporan yang disusun untuk rekomendasi berdasarkan hasil analisis, sehingga dapat digunakan oleh konsumen dan restoran untuk membuat keputusan yang lebih baik mengenai makanan cepat saji."
      ],
      "metadata": {
        "id": "b6G_L8PMViDG"
      }
    },
    {
      "cell_type": "code",
      "source": [],
      "metadata": {
        "id": "dtUaTuFaYQUN"
      },
      "execution_count": null,
      "outputs": []
    }
  ]
}